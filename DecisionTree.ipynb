{
 "cells": [
  {
   "cell_type": "code",
   "execution_count": 2,
   "metadata": {},
   "outputs": [],
   "source": [
    "import numpy as np\n",
    "import tensorflow as tf\n",
    "import pandas as pd"
   ]
  },
  {
   "cell_type": "code",
   "execution_count": 21,
   "metadata": {},
   "outputs": [],
   "source": [
    "df_chacha1_acc = pd.read_csv('TanzDaten\\\\chacha1\\\\Linear Acceleration.csv')\n",
    "#df_chacha2 = pd.read_csv('TanzDaten\\\\chacha2\\\\Linear Acceleration.csv')\n",
    "df_rumba1_acc = pd.read_csv('TanzDaten\\\\rumba1\\\\Linear Acceleration.csv')\n",
    "df_jive1_acc = pd.read_csv('TanzDaten\\\\jive1\\\\Linear Acceleration.csv')\n",
    "df_samba1_acc = pd.read_csv('TanzDaten\\\\samba1\\\\Linear Acceleration.csv')\n",
    "#df_lwalzer1 = pd.read_csv('TanzDaten\\\\lwalzer1\\\\Linear Acceleration.csv')\n",
    "#df_tango1 = pd.read_csv('TanzDaten\\\\tango1\\\\Linear Acceleration.csv')\n",
    "\n",
    "df_chacha1_gyr = pd.read_csv('TanzDaten\\\\chacha1\\\\Gyroscope.csv')\n",
    "df_rumba1_gyr = pd.read_csv('TanzDaten\\\\rumba1\\\\Gyroscope.csv')\n",
    "df_jive1_gyr = pd.read_csv('TanzDaten\\\\jive1\\\\Gyroscope.csv')\n",
    "df_samba1_gyr = pd.read_csv('TanzDaten\\\\samba1\\\\Gyroscope.csv')\n",
    "\n",
    "df_acc_list = [df_chacha1_acc, df_rumba1_acc, df_jive1_acc, df_samba1_acc]\n",
    "df_gyr_list = [df_chacha1_gyr, df_rumba1_gyr, df_jive1_gyr, df_samba1_gyr]\n",
    "labels = ['chacha', 'rumba', 'jive', 'samba']"
   ]
  },
  {
   "cell_type": "code",
   "execution_count": 22,
   "metadata": {},
   "outputs": [],
   "source": [
    "def prep_df_acc(df, label, bin_size=5):\n",
    "    df.columns = ['time', 'x', 'y', 'z']\n",
    "\n",
    "    bins = list(range(0, int(np.ceil(df['time'].max()+bin_size)), bin_size))\n",
    "    df['bin'] = pd.cut(df['time'], bins=bins, labels=bins[0:-1])\n",
    "\n",
    "    custom_agg = {\n",
    "        'x': ['mean', 'max', 'min', 'var'],\n",
    "        'y': ['mean', 'max', 'min', 'var'],\n",
    "        'z': ['mean', 'max', 'min', 'var']\n",
    "    }\n",
    "\n",
    "    result = df.groupby('bin').agg(custom_agg).reset_index()\n",
    "    #result.drop('bin', axis=1, inplace=True)\n",
    "    result.columns = ['bin'] + [' acc '.join(col).strip() for col in result.columns.values[1:]]\n",
    "    result['label'] = label\n",
    "\n",
    "    return result"
   ]
  },
  {
   "cell_type": "code",
   "execution_count": 23,
   "metadata": {},
   "outputs": [],
   "source": [
    "def prep_df_gyr(df, label, bin_size=5):\n",
    "    df.columns = ['time', 'x', 'y', 'z']\n",
    "\n",
    "    bins = list(range(0, int(np.ceil(df['time'].max()+bin_size)), bin_size))\n",
    "    df['bin'] = pd.cut(df['time'], bins=bins, labels=bins[0:-1])\n",
    "\n",
    "    custom_agg = {\n",
    "        'x': ['mean', 'max', 'min', 'var'],\n",
    "        'y': ['mean', 'max', 'min', 'var'],\n",
    "        'z': ['mean', 'max', 'min', 'var']\n",
    "    }\n",
    "\n",
    "    result = df.groupby('bin').agg(custom_agg).reset_index()\n",
    "    #result.drop('bin', axis=1, inplace=True)\n",
    "    result.columns = ['bin'] + [' gyr '.join(col).strip() for col in result.columns.values[1:]]\n",
    "    result['label'] = label\n",
    "\n",
    "    return result"
   ]
  },
  {
   "cell_type": "code",
   "execution_count": 24,
   "metadata": {},
   "outputs": [],
   "source": [
    "def feature_generator(df_acc_list, df_gyr_list, labels, bin_size=5):\n",
    "    df_features_acc = pd.concat([prep_df_acc(df, label, bin_size=bin_size) for df, label in list(zip(df_acc_list, labels))], ignore_index=True)\n",
    "    df_features_gyr = pd.concat([prep_df_gyr(df, label, bin_size=bin_size) for df, label in list(zip(df_gyr_list, labels))], ignore_index=True)\n",
    "\n",
    "    df = pd.merge(df_features_acc, df_features_gyr, on=['bin', 'label'])\n",
    "    df.drop('bin', axis=1, inplace=True)\n",
    "\n",
    "    return df\n",
    "\n",
    "def feature_generator(df_list, labels, bin_size=5):\n",
    "    df = pd.concat([prep_df_acc(df, label, bin_size=bin_size) for df, label in list(zip(df_list, labels))], ignore_index=True)\n",
    "    df.drop('bin', axis=1, inplace=True)\n",
    "\n",
    "    return df\n",
    "    "
   ]
  },
  {
   "cell_type": "code",
   "execution_count": 25,
   "metadata": {},
   "outputs": [],
   "source": [
    "df_features = feature_generator(df_acc_list, labels, bin_size=10)"
   ]
  },
  {
   "cell_type": "code",
   "execution_count": 26,
   "metadata": {},
   "outputs": [],
   "source": [
    "from sklearn.model_selection import train_test_split\n",
    "from sklearn import tree\n",
    "from sklearn.metrics import accuracy_score\n",
    "import matplotlib.pyplot as plt"
   ]
  },
  {
   "cell_type": "code",
   "execution_count": 27,
   "metadata": {},
   "outputs": [
    {
     "name": "stdout",
     "output_type": "stream",
     "text": [
      "(42, 12)\n",
      "(42,)\n",
      "(19, 12)\n",
      "(19,)\n"
     ]
    }
   ],
   "source": [
    "X = df_features[list(df_features.columns)[0:-1]]\n",
    "#X = df_features.drop('label', axis=1)\n",
    "y = df_features['label']\n",
    "\n",
    "X_train, X_test, y_train, y_test = train_test_split(X, y, test_size=0.3)\n",
    "print(X_train.shape)\n",
    "print(y_train.shape)\n",
    "print(X_test.shape)\n",
    "print(y_test.shape)"
   ]
  },
  {
   "cell_type": "code",
   "execution_count": 28,
   "metadata": {},
   "outputs": [
    {
     "data": {
      "text/plain": [
       "DecisionTreeClassifier(max_depth=3)"
      ]
     },
     "execution_count": 28,
     "metadata": {},
     "output_type": "execute_result"
    }
   ],
   "source": [
    "clf = tree.DecisionTreeClassifier(max_depth=3)\n",
    "clf.fit(X_train, y_train)"
   ]
  },
  {
   "cell_type": "code",
   "execution_count": 29,
   "metadata": {},
   "outputs": [
    {
     "data": {
      "text/plain": [
       "0.631578947368421"
      ]
     },
     "execution_count": 29,
     "metadata": {},
     "output_type": "execute_result"
    }
   ],
   "source": [
    "y_pred = clf.predict(X_test)\n",
    "accuracy_score(y_test, y_pred)\n",
    "# more evaluation"
   ]
  },
  {
   "cell_type": "code",
   "execution_count": null,
   "metadata": {},
   "outputs": [],
   "source": []
  },
  {
   "cell_type": "code",
   "execution_count": null,
   "metadata": {},
   "outputs": [],
   "source": [
    "plt.figure(figsize=(12,12))  # set plot size (denoted in inches)\n",
    "tree.plot_tree(clf, fontsize=10)\n",
    "plt.show()"
   ]
  }
 ],
 "metadata": {
  "kernelspec": {
   "display_name": "base",
   "language": "python",
   "name": "python3"
  },
  "language_info": {
   "codemirror_mode": {
    "name": "ipython",
    "version": 3
   },
   "file_extension": ".py",
   "mimetype": "text/x-python",
   "name": "python",
   "nbconvert_exporter": "python",
   "pygments_lexer": "ipython3",
   "version": "3.9.12"
  }
 },
 "nbformat": 4,
 "nbformat_minor": 2
}
