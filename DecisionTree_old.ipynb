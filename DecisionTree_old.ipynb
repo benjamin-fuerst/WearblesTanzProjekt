{
 "cells": [
  {
   "cell_type": "markdown",
   "metadata": {},
   "source": [
    "# Uberschrift #"
   ]
  },
  {
   "cell_type": "code",
   "execution_count": 229,
   "metadata": {},
   "outputs": [],
   "source": [
    "import numpy as np\n",
    "import tensorflow as tf\n",
    "import pandas as pd"
   ]
  },
  {
   "cell_type": "code",
   "execution_count": 247,
   "metadata": {},
   "outputs": [],
   "source": [
    "df_chacha1 = pd.read_csv('TanzDaten\\\\chacha1\\\\Linear Acceleration.csv')\n",
    "#df_chacha2 = pd.read_csv('TanzDaten\\\\chacha2\\\\Linear Acceleration.csv')\n",
    "df_rumba1 = pd.read_csv('TanzDaten\\\\rumba1\\\\Linear Acceleration.csv')\n",
    "df_jive1 = pd.read_csv('TanzDaten\\\\jive1\\\\Linear Acceleration.csv')\n",
    "df_samba1 = pd.read_csv('TanzDaten\\\\samba1\\\\Linear Acceleration.csv')\n",
    "#df_lwalzer1 = pd.read_csv('TanzDaten\\\\lwalzer1\\\\Linear Acceleration.csv')\n",
    "#df_tango1 = pd.read_csv('TanzDaten\\\\tango1\\\\Linear Acceleration.csv')"
   ]
  },
  {
   "cell_type": "code",
   "execution_count": 166,
   "metadata": {},
   "outputs": [
    {
     "name": "stdout",
     "output_type": "stream",
     "text": [
      "(6252, 5)\n",
      "(10049, 5)\n",
      "(9589, 5)\n",
      "(5515, 5)\n"
     ]
    }
   ],
   "source": [
    "print(df_chacha1.shape)\n",
    "print(df_rumba1.shape)\n",
    "print(df_jive1.shape)\n",
    "print(df_samba1.shape)"
   ]
  },
  {
   "cell_type": "markdown",
   "metadata": {},
   "source": [
    "# Decision Tree #"
   ]
  },
  {
   "cell_type": "code",
   "execution_count": 12,
   "metadata": {},
   "outputs": [],
   "source": [
    "def prep_df(df, label, bin_size=5):\n",
    "    df.columns = ['time', 'x', 'y', 'z']\n",
    "\n",
    "    bins = list(range(0, int(np.ceil(df['time'].max()+bin_size)), bin_size))\n",
    "    df['bin'] = pd.cut(df['time'], bins=bins, labels=bins[0:-1])\n",
    "\n",
    "    custom_agg = {\n",
    "        'x': ['mean', 'max', 'min', 'var'],\n",
    "        'y': ['mean', 'max', 'min', 'var'],\n",
    "        'z': ['mean', 'max', 'min', 'var']\n",
    "    }\n",
    "\n",
    "    result = df.groupby('bin').agg(custom_agg).reset_index()\n",
    "    result.drop('bin', axis=1, inplace=True)\n",
    "    result.columns = [' '.join(col).strip() for col in result.columns.values]\n",
    "    result['label'] = label\n",
    "\n",
    "    return result"
   ]
  },
  {
   "cell_type": "code",
   "execution_count": 13,
   "metadata": {},
   "outputs": [],
   "source": [
    "bin_size=10"
   ]
  },
  {
   "cell_type": "code",
   "execution_count": 14,
   "metadata": {},
   "outputs": [
    {
     "name": "stdout",
     "output_type": "stream",
     "text": [
      "     x mean     x max     x min     x var    y mean     y max     y min  \\\n",
      "0 -0.032035  3.396266 -3.475503  1.654390  0.224375  4.705453 -2.070337   \n",
      "1 -0.029507  4.539084 -8.444817  2.044867  0.221708  4.507174 -2.353144   \n",
      "2 -0.187964  5.376016 -7.268412  1.978608  0.085017  3.711990 -4.914500   \n",
      "3 -0.295236  3.347499 -4.603240  1.625851  0.338989  2.944685 -2.978164   \n",
      "4 -0.234531  4.445667 -4.780134  2.010440  0.690004  5.026338 -2.791822   \n",
      "\n",
      "      y var    z mean     z max     z min     z var   label  \n",
      "0  0.992573 -0.176783  6.154903 -3.401186  1.189635  chacha  \n",
      "1  1.404928  0.029182  3.275749 -2.624024  1.359661  chacha  \n",
      "2  1.010728 -0.021645  2.293734 -4.104889  0.774914  chacha  \n",
      "3  1.093162 -0.281718  2.534860 -3.500268  1.038788  chacha  \n",
      "4  1.557225 -0.354330  3.530463 -3.632708  1.353948  chacha  \n",
      "(12, 13)\n"
     ]
    },
    {
     "name": "stderr",
     "output_type": "stream",
     "text": [
      "C:\\Users\\benja\\AppData\\Local\\Temp\\ipykernel_11840\\1558260659.py:14: PerformanceWarning: dropping on a non-lexsorted multi-index without a level parameter may impact performance.\n",
      "  result.drop('bin', axis=1, inplace=True)\n"
     ]
    }
   ],
   "source": [
    "df_features = prep_df(df_chacha1, 'chacha', bin_size)\n",
    "print(df_features.head())\n",
    "print(df_features.shape)"
   ]
  },
  {
   "cell_type": "code",
   "execution_count": null,
   "metadata": {},
   "outputs": [],
   "source": []
  },
  {
   "cell_type": "code",
   "execution_count": 15,
   "metadata": {},
   "outputs": [
    {
     "name": "stdout",
     "output_type": "stream",
     "text": [
      "     x mean     x max     x min     x var    y mean     y max     y min  \\\n",
      "0 -0.032035  3.396266 -3.475503  1.654390  0.224375  4.705453 -2.070337   \n",
      "1 -0.029507  4.539084 -8.444817  2.044867  0.221708  4.507174 -2.353144   \n",
      "2 -0.187964  5.376016 -7.268412  1.978608  0.085017  3.711990 -4.914500   \n",
      "3 -0.295236  3.347499 -4.603240  1.625851  0.338989  2.944685 -2.978164   \n",
      "4 -0.234531  4.445667 -4.780134  2.010440  0.690004  5.026338 -2.791822   \n",
      "\n",
      "      y var    z mean     z max     z min     z var   label  \n",
      "0  0.992573 -0.176783  6.154903 -3.401186  1.189635  chacha  \n",
      "1  1.404928  0.029182  3.275749 -2.624024  1.359661  chacha  \n",
      "2  1.010728 -0.021645  2.293734 -4.104889  0.774914  chacha  \n",
      "3  1.093162 -0.281718  2.534860 -3.500268  1.038788  chacha  \n",
      "4  1.557225 -0.354330  3.530463 -3.632708  1.353948  chacha  \n",
      "(61, 13)\n"
     ]
    },
    {
     "name": "stderr",
     "output_type": "stream",
     "text": [
      "C:\\Users\\benja\\AppData\\Local\\Temp\\ipykernel_11840\\1558260659.py:14: PerformanceWarning: dropping on a non-lexsorted multi-index without a level parameter may impact performance.\n",
      "  result.drop('bin', axis=1, inplace=True)\n",
      "C:\\Users\\benja\\AppData\\Local\\Temp\\ipykernel_11840\\1558260659.py:14: PerformanceWarning: dropping on a non-lexsorted multi-index without a level parameter may impact performance.\n",
      "  result.drop('bin', axis=1, inplace=True)\n",
      "C:\\Users\\benja\\AppData\\Local\\Temp\\ipykernel_11840\\1558260659.py:14: PerformanceWarning: dropping on a non-lexsorted multi-index without a level parameter may impact performance.\n",
      "  result.drop('bin', axis=1, inplace=True)\n",
      "C:\\Users\\benja\\AppData\\Local\\Temp\\ipykernel_11840\\1360374103.py:1: FutureWarning: The frame.append method is deprecated and will be removed from pandas in a future version. Use pandas.concat instead.\n",
      "  df_features = df_features.append([prep_df(df_rumba1, 'rumba', bin_size),\n"
     ]
    }
   ],
   "source": [
    "df_features = df_features.append([prep_df(df_rumba1, 'rumba', bin_size),\n",
    "                    prep_df(df_jive1, 'jive', bin_size),\n",
    "                    prep_df(df_samba1, 'samba', bin_size)\n",
    "                    ])\n",
    "print(df_features.head())\n",
    "print(df_features.shape)"
   ]
  },
  {
   "cell_type": "code",
   "execution_count": 156,
   "metadata": {},
   "outputs": [],
   "source": [
    "from sklearn.model_selection import train_test_split\n",
    "from sklearn import tree\n",
    "from sklearn.ensemble import RandomForestClassifier\n",
    "from sklearn.model_selection import GridSearchCV\n",
    "from sklearn.model_selection import RandomizedSearchCV\n",
    "from sklearn.model_selection import cross_val_score\n",
    "from sklearn.metrics import accuracy_score\n",
    "from sklearn.metrics import roc_curve, auc\n",
    "import matplotlib.pyplot as plt"
   ]
  },
  {
   "cell_type": "code",
   "execution_count": 163,
   "metadata": {},
   "outputs": [
    {
     "name": "stdout",
     "output_type": "stream",
     "text": [
      "(42, 12)\n",
      "(42,)\n",
      "(19, 12)\n",
      "(19,)\n"
     ]
    }
   ],
   "source": [
    "X = df_features[list(df_features.columns)[:-1]]\n",
    "y = df_features['label']\n",
    "\n",
    "X_train, X_test, y_train, y_test = train_test_split(X, y, test_size=0.3)\n",
    "print(X_train.shape)\n",
    "print(y_train.shape)\n",
    "print(X_test.shape)\n",
    "print(y_test.shape)"
   ]
  },
  {
   "cell_type": "code",
   "execution_count": 144,
   "metadata": {},
   "outputs": [],
   "source": [
    "param_grid = {'n_estimators': [100, 200, 400, 800],\n",
    "              'max_depth': np.linspace(2, 8, 8, endpoint=True),\n",
    "              'min_samples_split': [2,3,4,6,8]}\n"
   ]
  },
  {
   "cell_type": "code",
   "execution_count": 145,
   "metadata": {},
   "outputs": [],
   "source": [
    "#clf = tree.DecisionTreeClassifier(max_depth=3)\n",
    "#clf.fit(X_train, y_train)\n",
    "rf = RandomForestClassifier()\n",
    "grid_search = GridSearchCV(estimator = rf, param_grid = param_grid, cv = 3, verbose=2, n_jobs = -1)\n",
    "# Fit the random search model\n",
    "#rf_random.fit(train_features, train_labels)"
   ]
  },
  {
   "cell_type": "code",
   "execution_count": 146,
   "metadata": {},
   "outputs": [
    {
     "name": "stdout",
     "output_type": "stream",
     "text": [
      "Fitting 3 folds for each of 160 candidates, totalling 480 fits\n"
     ]
    },
    {
     "data": {
      "text/plain": [
       "{'max_depth': 2.857142857142857, 'min_samples_split': 8, 'n_estimators': 400}"
      ]
     },
     "execution_count": 146,
     "metadata": {},
     "output_type": "execute_result"
    }
   ],
   "source": [
    "# Fit the grid search to the data\n",
    "grid_search.fit(X_train, y_train)\n",
    "grid_search.best_params_"
   ]
  },
  {
   "cell_type": "code",
   "execution_count": 161,
   "metadata": {},
   "outputs": [
    {
     "name": "stdout",
     "output_type": "stream",
     "text": [
      "Training score: 0.9523809523809523\n",
      "Training score: 0.631578947368421\n"
     ]
    }
   ],
   "source": [
    "rf_best = RandomForestClassifier(n_estimators=400, max_depth=3, min_samples_split=8)\n",
    "rf_best.fit(X_train, y_train)\n",
    "print(\"Training score: \" + str(rf_best.score(X_train, y_train)))\n",
    "print(\"Training score: \" + str(rf_best.score(X_test, y_test)))"
   ]
  },
  {
   "cell_type": "code",
   "execution_count": 164,
   "metadata": {},
   "outputs": [
    {
     "name": "stdout",
     "output_type": "stream",
     "text": [
      "0.67 accuracy with a standard deviation of 0.15\n"
     ]
    }
   ],
   "source": [
    "scores = cross_val_score(rf_best, X, y, cv=5)\n",
    "print(\"%0.2f accuracy with a standard deviation of %0.2f\" % (scores.mean(), scores.std()))"
   ]
  },
  {
   "cell_type": "code",
   "execution_count": 125,
   "metadata": {},
   "outputs": [
    {
     "name": "stdout",
     "output_type": "stream",
     "text": [
      "Training score: 0.9761904761904762\n",
      "Training score: 0.7368421052631579\n"
     ]
    }
   ],
   "source": [
    "print(\"Training score: \" + str(clf.score(X_train, y_train)))\n",
    "print(\"Training score: \" + str(clf.score(X_test, y_test)))\n",
    "\n",
    "#y_pred = clf.predict(X_test)\n",
    "#accuracy_score(y_test, y_pred)\n",
    "# more evaluation"
   ]
  },
  {
   "cell_type": "code",
   "execution_count": null,
   "metadata": {},
   "outputs": [],
   "source": [
    "plt.figure(figsize=(12,12))  # set plot size (denoted in inches)\n",
    "tree.plot_tree(clf, fontsize=10)\n",
    "plt.show()"
   ]
  },
  {
   "cell_type": "markdown",
   "metadata": {},
   "source": [
    "# Hypothesis Test :) #"
   ]
  },
  {
   "cell_type": "code",
   "execution_count": 188,
   "metadata": {},
   "outputs": [],
   "source": [
    "import matplotlib.pyplot as plt\n",
    "import statsmodels.api as sm\n",
    "from scipy.stats import mannwhitneyu"
   ]
  },
  {
   "cell_type": "code",
   "execution_count": 203,
   "metadata": {},
   "outputs": [],
   "source": [
    "df_chacha1.columns = ['time', 'x', 'y', 'z']\n",
    "df_rumba1.columns = ['time', 'x', 'y', 'z']\n",
    "df_jive1.columns = ['time', 'x', 'y', 'z']\n",
    "df_samba1.columns = ['time', 'x', 'y', 'z']"
   ]
  },
  {
   "cell_type": "code",
   "execution_count": 249,
   "metadata": {},
   "outputs": [],
   "source": [
    "def prep_df(df, label, bin_size=5):\n",
    "    df.columns = ['time', 'x', 'y', 'z']\n",
    "    df['mag'] = np.sqrt(df['x']**2 + df['y']**2 + df['z']**2)\n",
    "\n",
    "\n",
    "    bins = list(range(0, int(np.ceil(df['time'].max()+bin_size)), bin_size))\n",
    "    df['bin'] = pd.cut(df['time'], bins=bins, labels=bins[0:-1])\n",
    "\n",
    "    custom_agg = {\n",
    "        'x': ['mean', 'max', 'min', 'var'],\n",
    "        'y': ['mean', 'max', 'min', 'var'],\n",
    "        'z': ['mean', 'max', 'min', 'var'],\n",
    "        'mag': ['mean', 'max', 'min', 'var']\n",
    "    }\n",
    "\n",
    "    result = df.groupby('bin').agg(custom_agg).reset_index()\n",
    "    result.drop('bin', axis=1, inplace=True)\n",
    "    result.columns = [' '.join(col).strip() for col in result.columns.values]\n",
    "    result['label'] = label\n",
    "\n",
    "    return result"
   ]
  },
  {
   "cell_type": "code",
   "execution_count": 250,
   "metadata": {},
   "outputs": [
    {
     "name": "stderr",
     "output_type": "stream",
     "text": [
      "C:\\Users\\benja\\AppData\\Local\\Temp\\ipykernel_11840\\1294848126.py:17: PerformanceWarning: dropping on a non-lexsorted multi-index without a level parameter may impact performance.\n",
      "  result.drop('bin', axis=1, inplace=True)\n",
      "C:\\Users\\benja\\AppData\\Local\\Temp\\ipykernel_11840\\1294848126.py:17: PerformanceWarning: dropping on a non-lexsorted multi-index without a level parameter may impact performance.\n",
      "  result.drop('bin', axis=1, inplace=True)\n",
      "C:\\Users\\benja\\AppData\\Local\\Temp\\ipykernel_11840\\1294848126.py:17: PerformanceWarning: dropping on a non-lexsorted multi-index without a level parameter may impact performance.\n",
      "  result.drop('bin', axis=1, inplace=True)\n",
      "C:\\Users\\benja\\AppData\\Local\\Temp\\ipykernel_11840\\1294848126.py:17: PerformanceWarning: dropping on a non-lexsorted multi-index without a level parameter may impact performance.\n",
      "  result.drop('bin', axis=1, inplace=True)\n"
     ]
    }
   ],
   "source": [
    "df_c = prep_df(df_chacha1, 'chacha')\n",
    "df_r = prep_df(df_rumba1, 'rumba')\n",
    "df_j = prep_df(df_jive1, 'rumba')\n",
    "df_s = prep_df(df_samba1, 'rumba')"
   ]
  },
  {
   "cell_type": "code",
   "execution_count": 282,
   "metadata": {},
   "outputs": [
    {
     "name": "stdout",
     "output_type": "stream",
     "text": [
      "Statistic: 333.0\n",
      "P-value: 0.3735464429019998\n"
     ]
    }
   ],
   "source": [
    "stat, p_value = mannwhitneyu(df_j['mag min'], df_s['mag min'])\n",
    "\n",
    "print(f'Statistic: {stat}')\n",
    "print(f'P-value: {p_value}')"
   ]
  },
  {
   "cell_type": "code",
   "execution_count": 289,
   "metadata": {},
   "outputs": [
    {
     "data": {
      "text/plain": [
       "0     2.074251\n",
       "1     1.268964\n",
       "2     1.769992\n",
       "3     2.002857\n",
       "4     1.057982\n",
       "5     1.936105\n",
       "6     1.634958\n",
       "7     1.868731\n",
       "8     2.238230\n",
       "9     1.910879\n",
       "10    2.276701\n",
       "11    2.420881\n",
       "12    1.678254\n",
       "13    1.879696\n",
       "14    2.016099\n",
       "15    1.269860\n",
       "16    2.283866\n",
       "17    2.208117\n",
       "18    1.926544\n",
       "19    1.854841\n",
       "20    2.396748\n",
       "21    2.532920\n",
       "22    2.286577\n",
       "23    1.105752\n",
       "Name: mag mean, dtype: float64"
      ]
     },
     "execution_count": 289,
     "metadata": {},
     "output_type": "execute_result"
    }
   ],
   "source": [
    "df_c['mag mean']"
   ]
  },
  {
   "cell_type": "code",
   "execution_count": 297,
   "metadata": {},
   "outputs": [
    {
     "data": {
      "image/png": "[encoded data removed]",
      "text/plain": [
       "<Figure size 432x288 with 1 Axes>"
      ]
     },
     "metadata": {
      "needs_background": "light"
     },
     "output_type": "display_data"
    }
   ],
   "source": [
    "plt.hist(df_c['mag mean'], range=(0,3))\n",
    "plt.title('Histogram of mean acceleration magnitudes (Cha-Cha)')\n",
    "plt.show()"
   ]
  },
  {
   "cell_type": "code",
   "execution_count": 246,
   "metadata": {},
   "outputs": [
    {
     "name": "stdout",
     "output_type": "stream",
     "text": [
      "Statistic: 95.0\n",
      "P-value: 1.8895696945718977e-07\n"
     ]
    }
   ],
   "source": [
    "stat, p_value = mannwhitneyu(df['mag mean'], df2['mag mean'])\n",
    "\n",
    "print(f'Statistic: {stat}')\n",
    "print(f'P-value: {p_value}')"
   ]
  },
  {
   "cell_type": "code",
   "execution_count": 283,
   "metadata": {},
   "outputs": [
    {
     "data": {
      "image/png": "[encoded data removed]",
      "text/plain": [
       "<Figure size 432x288 with 1 Axes>"
      ]
     },
     "metadata": {
      "needs_background": "light"
     },
     "output_type": "display_data"
    }
   ],
   "source": [
    "plt.hist(df_chacha1['mag'], bins=50, range=(0,10))\n",
    "plt.title('Histogram of mean acceleration magnitude')\n",
    "plt.show()"
   ]
  },
  {
   "cell_type": "code",
   "execution_count": 196,
   "metadata": {},
   "outputs": [
    {
     "data": {
      "image/png": "[encoded data removed]",
      "text/plain": [
       "<Figure size 432x288 with 1 Axes>"
      ]
     },
     "metadata": {
      "needs_background": "light"
     },
     "output_type": "display_data"
    }
   ],
   "source": [
    "plt.hist(df_rumba1['mag'], bins=50, range=(0,10))\n",
    "plt.show()"
   ]
  },
  {
   "cell_type": "code",
   "execution_count": 183,
   "metadata": {},
   "outputs": [
    {
     "data": {
      "image/png": "[encoded data removed]",
      "text/plain": [
       "<Figure size 432x288 with 1 Axes>"
      ]
     },
     "metadata": {
      "needs_background": "light"
     },
     "output_type": "display_data"
    }
   ],
   "source": [
    "fig = sm.qqplot(df_chacha1['mag'], line='45')\n",
    "plt.show()"
   ]
  },
  {
   "cell_type": "code",
   "execution_count": 190,
   "metadata": {},
   "outputs": [
    {
     "name": "stdout",
     "output_type": "stream",
     "text": [
      "Statistic: 19485643.0\n",
      "P-value: 0.0\n"
     ]
    }
   ],
   "source": [
    "stat, p_value = mannwhitneyu(df_chacha1['mag'], df_rumba1['mag'])\n",
    "\n",
    "print(f'Statistic: {stat}')\n",
    "print(f'P-value: {p_value}')"
   ]
  }
 ],
 "metadata": {
  "kernelspec": {
   "display_name": "base",
   "language": "python",
   "name": "python3"
  },
  "language_info": {
   "codemirror_mode": {
    "name": "ipython",
    "version": 3
   },
   "file_extension": ".py",
   "mimetype": "text/x-python",
   "name": "python",
   "nbconvert_exporter": "python",
   "pygments_lexer": "ipython3",
   "version": "3.9.12"
  }
 },
 "nbformat": 4,
 "nbformat_minor": 2
}
